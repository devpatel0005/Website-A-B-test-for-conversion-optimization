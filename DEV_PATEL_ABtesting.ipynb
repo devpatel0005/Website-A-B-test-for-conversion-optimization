{
  "cells": [
    {
      "cell_type": "markdown",
      "id": "d931dc38",
      "metadata": {
        "id": "d931dc38"
      },
      "source": [
        "# DEV DHARMESH PATEL\n",
        "\n",
        "\n",
        "### Project Description: Website A/B Testing for Conversion Optimization"
      ]
    },
    {
      "cell_type": "markdown",
      "id": "3851902b",
      "metadata": {
        "id": "3851902b"
      },
      "source": [
        "# Problem:\n",
        "An e-commerce startup wants to know if a new checkout funnel (B) outperforms the old one (A).\n"
      ]
    },
    {
      "cell_type": "code",
      "execution_count": null,
      "id": "14287cf8",
      "metadata": {
        "id": "14287cf8"
      },
      "outputs": [],
      "source": [
        "import numpy as np\n",
        "import pandas as pd\n",
        "import matplotlib.pyplot as plt\n",
        "import seaborn as sns\n",
        "\n",
        "from scipy import stats\n",
        "from statsmodels.stats.proportion import proportions_ztest"
      ]
    },
    {
      "cell_type": "code",
      "execution_count": null,
      "id": "f50e8456",
      "metadata": {
        "id": "f50e8456"
      },
      "outputs": [],
      "source": [
        "np.random.seed(42)"
      ]
    },
    {
      "cell_type": "markdown",
      "id": "a284d1b5",
      "metadata": {
        "id": "a284d1b5"
      },
      "source": [
        "# Data Simulation:\n",
        "Objective: Simulate visit and purchase data for both the old funnel (A) and new funnel (B).\n",
        "\n"
      ]
    },
    {
      "cell_type": "code",
      "execution_count": null,
      "id": "ad0a68a0",
      "metadata": {
        "id": "ad0a68a0"
      },
      "outputs": [],
      "source": [
        "# Assume 10,000 visitors each\n",
        "n_A = 10000\n",
        "n_B = 10000\n",
        "P_A = 0.10\n",
        "P_B = 0.12"
      ]
    },
    {
      "cell_type": "markdown",
      "id": "50d34420",
      "metadata": {
        "id": "50d34420"
      },
      "source": [
        "Conclusion\n",
        "\n",
        "Simulated 10,000 visitors for both Variant A and B.\n",
        "\n",
        "Conversion rate set at 10% for A and 12% for B."
      ]
    },
    {
      "cell_type": "markdown",
      "id": "adb72808",
      "metadata": {
        "id": "adb72808"
      },
      "source": [
        "# Conversion Rate Calculation:"
      ]
    },
    {
      "cell_type": "code",
      "execution_count": null,
      "id": "a551df3d",
      "metadata": {
        "id": "a551df3d"
      },
      "outputs": [],
      "source": [
        "#Simulate  number of purchases\n",
        "success_A = np.random.binomial(n_A,P_A)\n",
        "success_B = np.random.binomial(n_B,P_B)"
      ]
    },
    {
      "cell_type": "code",
      "execution_count": null,
      "id": "567fb1f2",
      "metadata": {
        "id": "567fb1f2",
        "outputId": "255e6f5d-88ce-4dd7-ffc8-a1a86b71b426"
      },
      "outputs": [
        {
          "name": "stdout",
          "output_type": "stream",
          "text": [
            "973 1134\n"
          ]
        }
      ],
      "source": [
        "print(success_A,success_B)"
      ]
    },
    {
      "cell_type": "markdown",
      "id": "820f7405",
      "metadata": {
        "id": "820f7405"
      },
      "source": [
        "Conclusion\n",
        "\n",
        "Variant A: 973 purchases out of 10,000 visits → Conversion Rate (CR) = 9.73%\n",
        "\n",
        "Variant B: 1134 purchases out of 10,000 visits → CR = 11.34%"
      ]
    },
    {
      "cell_type": "markdown",
      "id": "fc39f5f3",
      "metadata": {
        "id": "fc39f5f3"
      },
      "source": [
        "# Confidence Intervals (95%):\n"
      ]
    },
    {
      "cell_type": "code",
      "execution_count": null,
      "id": "a39397a4",
      "metadata": {
        "id": "a39397a4"
      },
      "outputs": [],
      "source": [
        "def proportion(success,n,alpha=0.05):\n",
        "    p_hat = success/n\n",
        "    z = stats.norm.ppf(1 - alpha/2)\n",
        "    se = np.sqrt(p_hat * (1- p_hat)/n)\n",
        "    return p_hat,p_hat - z*se,p_hat+z*se"
      ]
    },
    {
      "cell_type": "markdown",
      "id": "40bc69ca",
      "metadata": {
        "id": "40bc69ca"
      },
      "source": [
        "- n: The total number of visitors.\n",
        " alpha: The significance level (defaulting to 0.05 for a 95% confidence interval).\n",
        "\n",
        "- p_hat: The calculated conversion rate (successes / n).\n",
        "\n",
        "- z: The z-score corresponding to the desired confidence level (e.g., for a 95% CI, you need the z-score that leaves 2.5% in each tail, which is calculated using stats.norm.ppf).\n",
        "\n",
        "- se: The standard error of the proportion."
      ]
    },
    {
      "cell_type": "code",
      "execution_count": null,
      "id": "bb100995",
      "metadata": {
        "id": "bb100995"
      },
      "outputs": [],
      "source": [
        "p_A_hat,ci_low_A,ci_high_A = proportion(success_A,n_A)\n",
        "p_B_hat,ci_low_B,ci_high_B = proportion(success_B,n_B)"
      ]
    },
    {
      "cell_type": "code",
      "execution_count": null,
      "id": "b75b6414",
      "metadata": {
        "id": "b75b6414",
        "outputId": "4abc5e26-1669-48af-b88d-96d33faea2a6"
      },
      "outputs": [
        {
          "name": "stdout",
          "output_type": "stream",
          "text": [
            "0.0973 0.09149133631051884 0.10310866368948116\n",
            "0.1134 0.1071853241430106 0.1196146758569894\n"
          ]
        }
      ],
      "source": [
        "print(p_A_hat,ci_low_A,ci_high_A)\n",
        "print(p_B_hat,ci_low_B,ci_high_B )"
      ]
    },
    {
      "cell_type": "code",
      "execution_count": null,
      "id": "86157511",
      "metadata": {
        "id": "86157511"
      },
      "outputs": [],
      "source": [
        "results = pd.DataFrame({\n",
        "    'Variant': ['A','B'],\n",
        "    'Visitors': [n_A,n_B],\n",
        "    'Conversions': [success_A,success_B],\n",
        "    'CR(p_hat)': [p_A_hat,p_B_hat],\n",
        "    'CI Lower (95%)':[ci_low_A, ci_low_B],\n",
        "    'CI Upper (95%)':[ci_high_A,ci_high_B],\n",
        "})"
      ]
    },
    {
      "cell_type": "code",
      "execution_count": null,
      "id": "f9bc8fd9",
      "metadata": {
        "id": "f9bc8fd9",
        "outputId": "ce34125c-6265-4406-e520-7f11a488fdc1"
      },
      "outputs": [
        {
          "data": {
            "text/html": [
              "<div>\n",
              "<style scoped>\n",
              "    .dataframe tbody tr th:only-of-type {\n",
              "        vertical-align: middle;\n",
              "    }\n",
              "\n",
              "    .dataframe tbody tr th {\n",
              "        vertical-align: top;\n",
              "    }\n",
              "\n",
              "    .dataframe thead th {\n",
              "        text-align: right;\n",
              "    }\n",
              "</style>\n",
              "<table border=\"1\" class=\"dataframe\">\n",
              "  <thead>\n",
              "    <tr style=\"text-align: right;\">\n",
              "      <th></th>\n",
              "      <th>Variant</th>\n",
              "      <th>Visitors</th>\n",
              "      <th>Conversions</th>\n",
              "      <th>CR(p_hat)</th>\n",
              "      <th>CI Lower (95%)</th>\n",
              "      <th>CI Upper (95%)</th>\n",
              "    </tr>\n",
              "  </thead>\n",
              "  <tbody>\n",
              "    <tr>\n",
              "      <th>0</th>\n",
              "      <td>A</td>\n",
              "      <td>10000</td>\n",
              "      <td>973</td>\n",
              "      <td>0.0973</td>\n",
              "      <td>0.091491</td>\n",
              "      <td>0.103109</td>\n",
              "    </tr>\n",
              "    <tr>\n",
              "      <th>1</th>\n",
              "      <td>B</td>\n",
              "      <td>10000</td>\n",
              "      <td>1134</td>\n",
              "      <td>0.1134</td>\n",
              "      <td>0.107185</td>\n",
              "      <td>0.119615</td>\n",
              "    </tr>\n",
              "  </tbody>\n",
              "</table>\n",
              "</div>"
            ],
            "text/plain": [
              "  Variant  Visitors  Conversions  CR(p_hat)  CI Lower (95%)  CI Upper (95%)\n",
              "0       A     10000          973     0.0973        0.091491        0.103109\n",
              "1       B     10000         1134     0.1134        0.107185        0.119615"
            ]
          },
          "execution_count": 11,
          "metadata": {},
          "output_type": "execute_result"
        }
      ],
      "source": [
        "results"
      ]
    },
    {
      "cell_type": "markdown",
      "id": "367a131a",
      "metadata": {
        "id": "367a131a"
      },
      "source": [
        "Conclusion:\n",
        "\n",
        "The below are the 95% confidence interval range\n",
        "\n",
        "A: [9.15%, 10.31%]\n",
        "\n",
        "B: [10.72%, 11.96%]\n",
        "\n",
        "Confidence intervals do not overlap, suggesting a real difference in performance."
      ]
    },
    {
      "cell_type": "markdown",
      "id": "c94a374e",
      "metadata": {
        "id": "c94a374e"
      },
      "source": [
        "# Plotting"
      ]
    },
    {
      "cell_type": "code",
      "execution_count": null,
      "id": "88c864a0",
      "metadata": {
        "id": "88c864a0",
        "outputId": "17e832aa-4ed1-42d5-fac3-e1fe71f034f2"
      },
      "outputs": [
        {
          "data": {
            "text/plain": [
              "<BarContainer object of 2 artists>"
            ]
          },
          "execution_count": 15,
          "metadata": {},
          "output_type": "execute_result"
        },
        {
          "data": {
            "image/png": "[encoded data removed]",
            "text/plain": [
              "<Figure size 800x600 with 1 Axes>"
            ]
          },
          "metadata": {},
          "output_type": "display_data"
        }
      ],
      "source": [
        "plt.figure(figsize=(8,6))\n",
        "\n",
        "plt.bar(\n",
        "    results['Variant'],\n",
        "    results['CI Upper (95%)'],\n",
        "    capsize=5,\n",
        "    color=['#FFB347', '#77DD77']  # orange, light green\n",
        ")\n",
        "plt.bar(\n",
        "    results['Variant'],\n",
        "    results['CR(p_hat)'],\n",
        "    capsize=5,\n",
        "    color=['#6495ED', '#FFD700']  # cornflower blue, gold\n",
        ")\n",
        "plt.bar(\n",
        "    results['Variant'],\n",
        "    results['CI Lower (95%)'],\n",
        "    capsize=5,\n",
        "    color=['#FF6961', '#20B2AA']  # pastel red, light sea green\n",
        ")"
      ]
    },
    {
      "cell_type": "markdown",
      "id": "169b47ee",
      "metadata": {
        "id": "169b47ee"
      },
      "source": [
        "Conclusion:\n",
        "\n",
        "Error bars were plotted to visualize confidence intervals for both groups.\n",
        "\n",
        "This plot helps visually confirm that Variant B performs better than A with statistically significant separation."
      ]
    },
    {
      "cell_type": "markdown",
      "id": "0035f719",
      "metadata": {
        "id": "0035f719"
      },
      "source": [
        "# Two-Proportion Z-Test:"
      ]
    },
    {
      "cell_type": "code",
      "execution_count": null,
      "id": "2c5c178c",
      "metadata": {
        "id": "2c5c178c"
      },
      "outputs": [],
      "source": [
        "from statsmodels.stats.proportion import proportions_ztest"
      ]
    },
    {
      "cell_type": "code",
      "execution_count": null,
      "id": "c1ea25b3",
      "metadata": {
        "id": "c1ea25b3",
        "outputId": "f9868c49-1171-48a6-82a7-a1424fe955fe"
      },
      "outputs": [
        {
          "name": "stdout",
          "output_type": "stream",
          "text": [
            "Z-statistic : 3.708\n",
            "P-value: 0.000\n"
          ]
        }
      ],
      "source": [
        "count = np.array([success_B,success_A])\n",
        "nobs = np.array([n_A,n_B])\n",
        "z_stat, p_value = proportions_ztest(count,nobs,alternative = 'larger')\n",
        "print(f\"Z-statistic : {z_stat:.3f}\")\n",
        "print(f\"P-value: {p_value:.3f}\")"
      ]
    },
    {
      "cell_type": "code",
      "execution_count": null,
      "id": "049e6bc2",
      "metadata": {
        "id": "049e6bc2",
        "outputId": "cf11b660-e47e-45c5-c9b6-0d03e4cb6428"
      },
      "outputs": [
        {
          "name": "stdout",
          "output_type": "stream",
          "text": [
            "Reject H0: Variant B have significantly higher conversion rate then Varient A\n"
          ]
        }
      ],
      "source": [
        "## condition for hypothesis\n",
        "if p_value < 0.05:\n",
        "    print(\"Reject H0: Variant B have significantly higher conversion rate then Varient A\")\n",
        "else:\n",
        "    print(\"Fai to reject H0: Variant B does not have higher conversion rate then Varient A\")\n"
      ]
    },
    {
      "cell_type": "markdown",
      "id": "5f95dcdb",
      "metadata": {
        "id": "5f95dcdb"
      },
      "source": [
        "h0 - p_b <= p_a vs h1 - p_b > p_a (design test)\n"
      ]
    },
    {
      "cell_type": "markdown",
      "id": "8089e091",
      "metadata": {
        "id": "8089e091"
      },
      "source": [
        "Conclusion:\n",
        "\n",
        "Z-statistic: 3.708\n",
        "\n",
        "P-value: 0.000\n",
        "\n",
        "Result: Statistically significant improvement in Variant B over A."
      ]
    },
    {
      "cell_type": "markdown",
      "id": "69b87f73",
      "metadata": {
        "id": "69b87f73"
      },
      "source": [
        "# Real-Time Monitoring / Sequential Testing:"
      ]
    },
    {
      "cell_type": "code",
      "execution_count": null,
      "id": "5c29e4cc",
      "metadata": {
        "id": "5c29e4cc"
      },
      "outputs": [],
      "source": [
        "import time"
      ]
    },
    {
      "cell_type": "code",
      "execution_count": null,
      "id": "b0829e6e",
      "metadata": {
        "id": "b0829e6e",
        "outputId": "030cf5e9-80b1-4218-b350-44fc9ddbb481"
      },
      "outputs": [
        {
          "name": "stdout",
          "output_type": "stream",
          "text": [
            "Batch 60/60\n",
            " Variant A: 6000 visits, 574 buys -> CR = 9.567%\n",
            " Variant B: 6000 visits, 714 buys -> CR = 11.900%\n",
            " Observed lift: 2.333%\n",
            " z-stat = 4.13, p-value = 0.0000\n",
            "Significant lift detected (p<0.05).\n"
          ]
        }
      ],
      "source": [
        "true_p_A,true_p_B = 0.10,0.12\n",
        "batch_size = 100\n",
        "n_batches = 60\n",
        "\n",
        "n_visits_A = n_visits_B = 0\n",
        "n_succ_A = n_succ_B = 0\n",
        "\n",
        "batches = []\n",
        "p_values = []\n",
        "lifts = []\n",
        "\n",
        "SD = 0\n",
        "NSD = 0\n",
        "for batch in range(1,n_batches+1):\n",
        "    new_A = np.random.binomial(batch_size,true_p_A)\n",
        "    new_B = np.random.binomial(batch_size,true_p_B)\n",
        "\n",
        "    n_visits_A += batch_size\n",
        "    n_visits_B += batch_size\n",
        "    n_succ_A += new_A\n",
        "    n_succ_B += new_B\n",
        "\n",
        "    cr_A = n_succ_A/n_visits_A\n",
        "    cr_B = n_succ_B/n_visits_B\n",
        "    lift = cr_B - cr_A\n",
        "      # Two-proportion z-test (one-sided: B > A)\n",
        "    count = np.array([n_succ_B,n_succ_A])\n",
        "    nobs = np.array([n_visits_B,n_visits_A])\n",
        "    z_stat, p_value = proportions_ztest(count,nobs,alternative = 'larger')\n",
        "\n",
        "    batches.append(batch)\n",
        "    p_values.append(p_value)\n",
        "    lifts.append(lift)\n",
        "\n",
        "print(f\"Batch {batch}/{n_batches}\")\n",
        "print(f\" Variant A: {n_visits_A} visits, {n_succ_A} buys -> CR = {cr_A:.3%}\")\n",
        "print(f\" Variant B: {n_visits_B} visits, {n_succ_B} buys -> CR = {cr_B:.3%}\")\n",
        "print(f\" Observed lift: {lift:.3%}\")\n",
        "print(f\" z-stat = {z_stat:.2f}, p-value = {p_value:.4f}\")\n",
        "if p_value < 0.05:\n",
        "    print(\"Significant lift detected (p<0.05).\")\n",
        "else:\n",
        "    print(\"No significant lift yet.\")"
      ]
    },
    {
      "cell_type": "code",
      "execution_count": null,
      "id": "d18a9205",
      "metadata": {
        "id": "d18a9205",
        "outputId": "194db50b-f8ec-481a-a0c4-7fb6c3736bd5"
      },
      "outputs": [
        {
          "data": {
            "image/png": "[encoded data removed]",
            "text/plain": [
              "<Figure size 640x480 with 1 Axes>"
            ]
          },
          "metadata": {},
          "output_type": "display_data"
        }
      ],
      "source": [
        "plt.plot(batches,p_values,'-r')\n",
        "plt.plot(batches,lifts,'-b')\n",
        "plt.show()"
      ]
    },
    {
      "cell_type": "markdown",
      "id": "30e8112c",
      "metadata": {
        "id": "30e8112c"
      },
      "source": [
        "Conclusion:\n",
        "\n",
        "Simulated sequential batches (up to 60).\n",
        "\n",
        "At batch 60 (6000 visitors per variant), a significant lift of 2.33% was observed.\n",
        "\n",
        "Final Z-stat: 4.13, p-value: 0.0000 → Confirms significance during real-time monitoring."
      ]
    },
    {
      "cell_type": "markdown",
      "id": "8dece3f5",
      "metadata": {
        "id": "8dece3f5"
      },
      "source": [
        "# Final Conclusion\n",
        "\n",
        "The A/B test clearly demonstrates that Variant B (new checkout funnel) significantly outperforms Variant A (old funnel):\n",
        "\n",
        "Conversion Rate improved by ~1.61 percentage points.\n",
        "\n",
        "Confidence intervals do not overlap, supporting the result.\n",
        "\n",
        "P-value < 0.05, rejecting the null hypothesis.\n",
        "\n",
        "Real-time monitoring further confirmed this improvement.\n",
        "\n",
        "Decision: Adopt Variant B — it delivers a statistically significant and measurable improvement in conversion rate.\n",
        "\n"
      ]
    }
  ],
  "metadata": {
    "colab": {
      "provenance": []
    },
    "kernelspec": {
      "display_name": "base",
      "language": "python",
      "name": "python3"
    },
    "language_info": {
      "codemirror_mode": {
        "name": "ipython",
        "version": 3
      },
      "file_extension": ".py",
      "mimetype": "text/x-python",
      "name": "python",
      "nbconvert_exporter": "python",
      "pygments_lexer": "ipython3",
      "version": "3.12.4"
    }
  },
  "nbformat": 4,
  "nbformat_minor": 5
}
